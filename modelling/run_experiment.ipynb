{
 "cells": [
  {
   "cell_type": "markdown",
   "metadata": {},
   "source": [
    "# Run Experiments\n",
    "\n",
    "This notebook contains the code to run modelling experiments and produces the output for review.\n",
    "\n",
    "It contains the following sections:\n",
    "\n",
    "- Imports\n",
    "- Constants\n",
    "- Functions\n",
    "- Import Data\n",
    "- Feature Selection\n",
    "- Hyperparameter Tuning\n",
    "- Cross Validation Results \n",
    "- Test Set Results (and model understanding)\n",
    "- Save Model"
   ]
  },
  {
   "cell_type": "markdown",
   "metadata": {},
   "source": [
    "## Imports"
   ]
  },
  {
   "cell_type": "code",
   "execution_count": 1,
   "metadata": {},
   "outputs": [],
   "source": [
    "import os\n",
    "from typing import (\n",
    "    Union,\n",
    "    List,\n",
    "    Tuple,\n",
    "    Optional,\n",
    "    Dict,\n",
    "    Any,\n",
    "    Callable,\n",
    ")\n",
    "from pathlib import Path\n",
    "import pickle\n",
    "\n",
    "import yaml\n",
    "import matplotlib.pyplot as plt\n",
    "from sklearn.pipeline import Pipeline\n",
    "from sklearn.compose import ColumnTransformer\n",
    "from sklearn.impute import SimpleImputer\n",
    "from sklearn.preprocessing import OneHotEncoder\n",
    "from sklearn.dummy import DummyClassifier\n",
    "from sklearn.linear_model import LogisticRegression\n",
    "from sklearn.ensemble import RandomForestClassifier\n",
    "from sklearn.model_selection import (\n",
    "    cross_validate,\n",
    "    GridSearchCV,\n",
    ")\n",
    "from sklearn.metrics import (\n",
    "    make_scorer,\n",
    "    recall_score,\n",
    "    precision_score,\n",
    "    roc_auc_score,\n",
    "    roc_curve,\n",
    ")\n",
    "import pandas as pd\n",
    "import numpy as np"
   ]
  },
  {
   "cell_type": "markdown",
   "metadata": {},
   "source": [
    "## Constants"
   ]
  },
  {
   "cell_type": "code",
   "execution_count": 2,
   "metadata": {},
   "outputs": [],
   "source": [
    "PROCESSED_DATA_PATH = Path(os.getcwd()).parent.joinpath('data').joinpath('processed')\n",
    "MODEL_SAVE_PATH = Path(os.getcwd()).joinpath('models')\n",
    "\n",
    "PROCESSED_TRAIN_DATA_FILE = PROCESSED_DATA_PATH.joinpath('train.csv')\n",
    "PROCESSED_TEST_DATA_FILE = PROCESSED_DATA_PATH.joinpath('test.csv')\n",
    "\n",
    "exp_config_filename = 'linear_baseline.yaml'"
   ]
  },
  {
   "cell_type": "markdown",
   "metadata": {},
   "source": [
    "## Functions"
   ]
  },
  {
   "cell_type": "code",
   "execution_count": 3,
   "metadata": {},
   "outputs": [],
   "source": [
    "\n",
    "def prediction_prop_score(\n",
    "    y_true: np.ndarray,\n",
    "    y_pred: np.ndarray,\n",
    "    **kwargs\n",
    ") -> float:\n",
    "    \"\"\"\n",
    "    calculates the proportion of the data which is given a positive prediction \n",
    "    :param y_true:  np.ndarray not used but required by sklearn to be a scorer\n",
    "    :param y_pred: np.ndarray predictions from model\n",
    "    :return: float proportion of positive class predictions\n",
    "    \"\"\"\n",
    "    return y_pred.mean()\n",
    "\n",
    "def parse_config(config_file: str, experiment_dir: Optional[str] = None) -> Dict[str, Any]:\n",
    "    \"\"\"\n",
    "    Parse the configuration file for the experiment\n",
    "    :param experiment_dir:  Optional[str] - directory of experiment configuration files\n",
    "    :param config_file: str - configuration filename\n",
    "    :return: Dict[str, Any] loaded configuration file for experiment\n",
    "    \"\"\"\n",
    "\n",
    "    if experiment_dir is None:\n",
    "        experiment_dir = Path(os.getcwd()).joinpath('experiment_configs')\n",
    "    else:\n",
    "        experiment_dir = Path(experiment_dir)\n",
    "\n",
    "    config_file_full = experiment_dir.joinpath(config_file)\n",
    "    config = yaml.load(open(config_file_full).read(), Loader=yaml.FullLoader)\n",
    "    config['config_filename'] = str(config_file_full)\n",
    "    print('config loaded.')\n",
    "\n",
    "    return config\n",
    "\n",
    "\n",
    "def column_transformer_factory(\n",
    "        column_transformer_config: Dict[str, Dict[str, Any]],\n",
    "        column_transformer_kwargs: Dict[str, Dict[str, Any]],\n",
    "        transformer_map: Dict[str, Any],\n",
    ") -> ColumnTransformer:\n",
    "    \"\"\"\n",
    "    Get the actual pipeline requested\n",
    "    :param column_transformer_config: Dict[str, Dict[str, Any]] - information about required columns transformers\n",
    "    :param column_transformer_kwargs: Dict[str, Dict[str, Any]] - kwargs for column transformer\n",
    "    :param transformer_map: Dict[str, Any], - all transformers available to ue for the model pipeline\n",
    "    :return: Pipeline - model pipeline as requested\n",
    "    \"\"\"\n",
    "\n",
    "    column_transformer_pipeline = []\n",
    "    for current_trans_id, current_trans_info in column_transformer_config.items():\n",
    "        column_transformer_pipeline.append(\n",
    "            (\n",
    "                current_trans_id,\n",
    "                transformer_map[current_trans_info['trans_name']](**current_trans_info['trans_args']),\n",
    "                current_trans_info['col_names'],\n",
    "            )\n",
    "        )\n",
    "\n",
    "    return ColumnTransformer(column_transformer_pipeline, **column_transformer_kwargs)\n",
    "\n",
    "\n",
    "def pipeline_factory(\n",
    "        column_trans: ColumnTransformer,\n",
    "        model_config: Dict[str, Dict[str, Any]],\n",
    "        transformer_map: Dict[str, Any],\n",
    ") -> Pipeline:\n",
    "    \"\"\"\n",
    "    Get the actual pipeline requested\n",
    "    :param column_trans: ColumnTransformer - column tranformations \n",
    "    :param model_config: Dict[str, Dict[str, Any]] - ML model information\n",
    "    :param transformer_map: Dict[str, Any], - all transformers available to ue for the model pipeline\n",
    "    :return: Pipeline - model pipeline as requested\n",
    "    \"\"\"\n",
    "\n",
    "    model_pipeline = [('column_trans', column_trans)]\n",
    "    model_pipeline.append((model_config['type'], transformer_map[model_config['type']](**model_config['kwargs'])))\n",
    "    return Pipeline(model_pipeline)\n",
    "\n",
    "def make_model(\n",
    "    exp_config: Dict[str, Any], \n",
    "    transformer_map: Dict[str, Any]) -> Pipeline:\n",
    "    \n",
    "    \"\"\"\n",
    "    Controls the creation of pipelines\n",
    "    :param exp_config: Dict[str, Dict[str, Any]] - experiment information\n",
    "    :param transformer_map: Dict[str, Any], - all transformers available to ue for the model pipeline\n",
    "    :return: Pipeline - model pipeline as requested\n",
    "    \"\"\"\n",
    "\n",
    "\n",
    "    col_trans = column_transformer_factory(\n",
    "        column_transformer_config=exp_config['column_transformer_map'],\n",
    "        column_transformer_kwargs=exp_config['column_transformer_args'],\n",
    "        transformer_map=transformer_map\n",
    "    )\n",
    "    model_pipeline = pipeline_factory(\n",
    "        column_trans=col_trans,\n",
    "        model_config=exp_config['model'],\n",
    "        transformer_map=transformer_map\n",
    "    )\n",
    "    \n",
    "    return model_pipeline\n",
    "\n",
    "known_transformers = (\n",
    "    ColumnTransformer, \n",
    "    SimpleImputer, \n",
    "    OneHotEncoder,\n",
    "    LogisticRegression,\n",
    "    DummyClassifier,\n",
    "    RandomForestClassifier,\n",
    ")\n",
    "\n",
    "transformer_map = {trans.__name__: trans for trans in known_transformers}\n",
    "\n",
    "\n"
   ]
  },
  {
   "cell_type": "markdown",
   "metadata": {},
   "source": [
    "## Load Config"
   ]
  },
  {
   "cell_type": "code",
   "execution_count": 4,
   "metadata": {},
   "outputs": [
    {
     "name": "stdout",
     "output_type": "stream",
     "text": [
      "config loaded.\n"
     ]
    },
    {
     "data": {
      "text/plain": [
       "{'model_name': 'churn__log_reg__baseline.pkl',\n",
       " 'features_col_names': ['main_operating_route',\n",
       "  'tenure_years',\n",
       "  'opened_campaign__processed',\n",
       "  'total_expenses__processed',\n",
       "  'num_loads_prev_12_mth__processed',\n",
       "  'profit_prev_12_mth__processed'],\n",
       " 'label_col_name': 'churned',\n",
       " 'column_transformer_map': {'impute': {'trans_name': 'SimpleImputer',\n",
       "   'trans_args': {},\n",
       "   'col_names': ['total_expenses__processed',\n",
       "    'profit_prev_12_mth__processed']},\n",
       "  'OHE': {'trans_name': 'OneHotEncoder',\n",
       "   'trans_args': {'drop': 'first'},\n",
       "   'col_names': ['main_operating_route']}},\n",
       " 'column_transformer_args': {'remainder': 'passthrough'},\n",
       " 'model': {'type': 'LogisticRegression',\n",
       "  'kwargs': {'penalty': 'none',\n",
       "   'class_weight': 'balanced',\n",
       "   'random_state': 3142}},\n",
       " 'n_folds': 5,\n",
       " 'param_grid': None,\n",
       " 'best_params': None,\n",
       " 'config_filename': 'D:\\\\Git_in_D\\\\sennder_parent\\\\modelling\\\\experiment_configs\\\\linear_baseline.yaml'}"
      ]
     },
     "execution_count": 4,
     "metadata": {},
     "output_type": "execute_result"
    }
   ],
   "source": [
    "exp_config = parse_config(config_file=exp_config_filename)\n",
    "exp_config"
   ]
  },
  {
   "cell_type": "markdown",
   "metadata": {},
   "source": [
    "## Load Data"
   ]
  },
  {
   "cell_type": "code",
   "execution_count": 5,
   "metadata": {},
   "outputs": [
    {
     "data": {
      "text/html": [
       "<div>\n",
       "<style scoped>\n",
       "    .dataframe tbody tr th:only-of-type {\n",
       "        vertical-align: middle;\n",
       "    }\n",
       "\n",
       "    .dataframe tbody tr th {\n",
       "        vertical-align: top;\n",
       "    }\n",
       "\n",
       "    .dataframe thead th {\n",
       "        text-align: right;\n",
       "    }\n",
       "</style>\n",
       "<table border=\"1\" class=\"dataframe\">\n",
       "  <thead>\n",
       "    <tr style=\"text-align: right;\">\n",
       "      <th></th>\n",
       "      <th>main_operating_route</th>\n",
       "      <th>tenure_years</th>\n",
       "      <th>opened_campaign__processed</th>\n",
       "      <th>total_expenses__processed</th>\n",
       "      <th>num_loads_prev_12_mth__processed</th>\n",
       "      <th>profit_prev_12_mth__processed</th>\n",
       "    </tr>\n",
       "  </thead>\n",
       "  <tbody>\n",
       "    <tr>\n",
       "      <th>2410</th>\n",
       "      <td>DE_GB</td>\n",
       "      <td>1.815940</td>\n",
       "      <td>0</td>\n",
       "      <td>9.817137</td>\n",
       "      <td>3.258097</td>\n",
       "      <td>9.626934</td>\n",
       "    </tr>\n",
       "    <tr>\n",
       "      <th>947</th>\n",
       "      <td>DE_GB</td>\n",
       "      <td>0.481308</td>\n",
       "      <td>0</td>\n",
       "      <td>9.096857</td>\n",
       "      <td>2.944439</td>\n",
       "      <td>8.579335</td>\n",
       "    </tr>\n",
       "    <tr>\n",
       "      <th>5950</th>\n",
       "      <td>DE_GB</td>\n",
       "      <td>1.657292</td>\n",
       "      <td>1</td>\n",
       "      <td>10.703430</td>\n",
       "      <td>3.465736</td>\n",
       "      <td>8.916716</td>\n",
       "    </tr>\n",
       "    <tr>\n",
       "      <th>348</th>\n",
       "      <td>DE_FR</td>\n",
       "      <td>1.487814</td>\n",
       "      <td>0</td>\n",
       "      <td>9.561450</td>\n",
       "      <td>3.044522</td>\n",
       "      <td>8.784945</td>\n",
       "    </tr>\n",
       "    <tr>\n",
       "      <th>3626</th>\n",
       "      <td>DE_GB</td>\n",
       "      <td>1.936974</td>\n",
       "      <td>0</td>\n",
       "      <td>9.201480</td>\n",
       "      <td>3.401197</td>\n",
       "      <td>8.830083</td>\n",
       "    </tr>\n",
       "    <tr>\n",
       "      <th>...</th>\n",
       "      <td>...</td>\n",
       "      <td>...</td>\n",
       "      <td>...</td>\n",
       "      <td>...</td>\n",
       "      <td>...</td>\n",
       "      <td>...</td>\n",
       "    </tr>\n",
       "    <tr>\n",
       "      <th>4365</th>\n",
       "      <td>DE_GB</td>\n",
       "      <td>2.719490</td>\n",
       "      <td>0</td>\n",
       "      <td>10.496413</td>\n",
       "      <td>3.583519</td>\n",
       "      <td>8.592266</td>\n",
       "    </tr>\n",
       "    <tr>\n",
       "      <th>479</th>\n",
       "      <td>DE_FR</td>\n",
       "      <td>0.287605</td>\n",
       "      <td>0</td>\n",
       "      <td>8.913389</td>\n",
       "      <td>3.218876</td>\n",
       "      <td>9.194797</td>\n",
       "    </tr>\n",
       "    <tr>\n",
       "      <th>1242</th>\n",
       "      <td>DE_GB</td>\n",
       "      <td>2.348454</td>\n",
       "      <td>0</td>\n",
       "      <td>NaN</td>\n",
       "      <td>3.295837</td>\n",
       "      <td>9.237365</td>\n",
       "    </tr>\n",
       "    <tr>\n",
       "      <th>1409</th>\n",
       "      <td>PL_IT</td>\n",
       "      <td>2.151398</td>\n",
       "      <td>0</td>\n",
       "      <td>9.934777</td>\n",
       "      <td>3.526361</td>\n",
       "      <td>8.323035</td>\n",
       "    </tr>\n",
       "    <tr>\n",
       "      <th>1363</th>\n",
       "      <td>DE_GB</td>\n",
       "      <td>1.702563</td>\n",
       "      <td>0</td>\n",
       "      <td>8.813032</td>\n",
       "      <td>3.332205</td>\n",
       "      <td>8.512457</td>\n",
       "    </tr>\n",
       "  </tbody>\n",
       "</table>\n",
       "<p>5946 rows × 6 columns</p>\n",
       "</div>"
      ],
      "text/plain": [
       "     main_operating_route  tenure_years  opened_campaign__processed  \\\n",
       "2410                DE_GB      1.815940                           0   \n",
       "947                 DE_GB      0.481308                           0   \n",
       "5950                DE_GB      1.657292                           1   \n",
       "348                 DE_FR      1.487814                           0   \n",
       "3626                DE_GB      1.936974                           0   \n",
       "...                   ...           ...                         ...   \n",
       "4365                DE_GB      2.719490                           0   \n",
       "479                 DE_FR      0.287605                           0   \n",
       "1242                DE_GB      2.348454                           0   \n",
       "1409                PL_IT      2.151398                           0   \n",
       "1363                DE_GB      1.702563                           0   \n",
       "\n",
       "      total_expenses__processed  num_loads_prev_12_mth__processed  \\\n",
       "2410                   9.817137                          3.258097   \n",
       "947                    9.096857                          2.944439   \n",
       "5950                  10.703430                          3.465736   \n",
       "348                    9.561450                          3.044522   \n",
       "3626                   9.201480                          3.401197   \n",
       "...                         ...                               ...   \n",
       "4365                  10.496413                          3.583519   \n",
       "479                    8.913389                          3.218876   \n",
       "1242                        NaN                          3.295837   \n",
       "1409                   9.934777                          3.526361   \n",
       "1363                   8.813032                          3.332205   \n",
       "\n",
       "      profit_prev_12_mth__processed  \n",
       "2410                       9.626934  \n",
       "947                        8.579335  \n",
       "5950                       8.916716  \n",
       "348                        8.784945  \n",
       "3626                       8.830083  \n",
       "...                             ...  \n",
       "4365                       8.592266  \n",
       "479                        9.194797  \n",
       "1242                       9.237365  \n",
       "1409                       8.323035  \n",
       "1363                       8.512457  \n",
       "\n",
       "[5946 rows x 6 columns]"
      ]
     },
     "metadata": {},
     "output_type": "display_data"
    },
    {
     "name": "stdout",
     "output_type": "stream",
     "text": [
      "\n",
      "\n"
     ]
    },
    {
     "data": {
      "text/plain": [
       "2410    0\n",
       "947     1\n",
       "5950    0\n",
       "348     0\n",
       "3626    0\n",
       "       ..\n",
       "4365    0\n",
       "479     0\n",
       "1242    0\n",
       "1409    0\n",
       "1363    0\n",
       "Name: churned, Length: 5946, dtype: int64"
      ]
     },
     "metadata": {},
     "output_type": "display_data"
    }
   ],
   "source": [
    "train_df = pd.read_csv(PROCESSED_TRAIN_DATA_FILE, header=0, index_col=0)\n",
    "\n",
    "X = train_df[exp_config['features_col_names']]\n",
    "y = train_df[exp_config['label_col_name']]\n",
    "\n",
    "display(X)\n",
    "print('\\n')\n",
    "display(y)"
   ]
  },
  {
   "cell_type": "code",
   "execution_count": 6,
   "metadata": {},
   "outputs": [
    {
     "data": {
      "text/html": [
       "<div>\n",
       "<style scoped>\n",
       "    .dataframe tbody tr th:only-of-type {\n",
       "        vertical-align: middle;\n",
       "    }\n",
       "\n",
       "    .dataframe tbody tr th {\n",
       "        vertical-align: top;\n",
       "    }\n",
       "\n",
       "    .dataframe thead th {\n",
       "        text-align: right;\n",
       "    }\n",
       "</style>\n",
       "<table border=\"1\" class=\"dataframe\">\n",
       "  <thead>\n",
       "    <tr style=\"text-align: right;\">\n",
       "      <th></th>\n",
       "      <th>main_operating_route</th>\n",
       "      <th>tenure_years</th>\n",
       "      <th>opened_campaign__processed</th>\n",
       "      <th>total_expenses__processed</th>\n",
       "      <th>num_loads_prev_12_mth__processed</th>\n",
       "      <th>profit_prev_12_mth__processed</th>\n",
       "    </tr>\n",
       "  </thead>\n",
       "  <tbody>\n",
       "    <tr>\n",
       "      <th>0</th>\n",
       "      <td>DE_GB</td>\n",
       "      <td>2.065258</td>\n",
       "      <td>0</td>\n",
       "      <td>11.384912</td>\n",
       "      <td>3.135494</td>\n",
       "      <td>10.059565</td>\n",
       "    </tr>\n",
       "    <tr>\n",
       "      <th>2</th>\n",
       "      <td>DE_FR</td>\n",
       "      <td>0.297064</td>\n",
       "      <td>0</td>\n",
       "      <td>8.471638</td>\n",
       "      <td>3.295837</td>\n",
       "      <td>7.102320</td>\n",
       "    </tr>\n",
       "    <tr>\n",
       "      <th>10</th>\n",
       "      <td>DE_GB</td>\n",
       "      <td>1.593268</td>\n",
       "      <td>0</td>\n",
       "      <td>10.428440</td>\n",
       "      <td>3.258097</td>\n",
       "      <td>9.106305</td>\n",
       "    </tr>\n",
       "    <tr>\n",
       "      <th>16</th>\n",
       "      <td>DE_GB</td>\n",
       "      <td>1.549858</td>\n",
       "      <td>0</td>\n",
       "      <td>10.104388</td>\n",
       "      <td>3.295837</td>\n",
       "      <td>8.867510</td>\n",
       "    </tr>\n",
       "    <tr>\n",
       "      <th>20</th>\n",
       "      <td>DE_FR</td>\n",
       "      <td>1.641286</td>\n",
       "      <td>0</td>\n",
       "      <td>11.272943</td>\n",
       "      <td>2.944439</td>\n",
       "      <td>10.252601</td>\n",
       "    </tr>\n",
       "    <tr>\n",
       "      <th>...</th>\n",
       "      <td>...</td>\n",
       "      <td>...</td>\n",
       "      <td>...</td>\n",
       "      <td>...</td>\n",
       "      <td>...</td>\n",
       "      <td>...</td>\n",
       "    </tr>\n",
       "    <tr>\n",
       "      <th>7359</th>\n",
       "      <td>DE_GB</td>\n",
       "      <td>2.958720</td>\n",
       "      <td>0</td>\n",
       "      <td>8.983136</td>\n",
       "      <td>3.258097</td>\n",
       "      <td>8.469335</td>\n",
       "    </tr>\n",
       "    <tr>\n",
       "      <th>7370</th>\n",
       "      <td>DE_GB</td>\n",
       "      <td>0.272627</td>\n",
       "      <td>1</td>\n",
       "      <td>10.733476</td>\n",
       "      <td>2.564949</td>\n",
       "      <td>9.570868</td>\n",
       "    </tr>\n",
       "    <tr>\n",
       "      <th>7411</th>\n",
       "      <td>DE_GB</td>\n",
       "      <td>0.800804</td>\n",
       "      <td>1</td>\n",
       "      <td>NaN</td>\n",
       "      <td>3.258097</td>\n",
       "      <td>8.888176</td>\n",
       "    </tr>\n",
       "    <tr>\n",
       "      <th>7415</th>\n",
       "      <td>DE_GB</td>\n",
       "      <td>2.419081</td>\n",
       "      <td>0</td>\n",
       "      <td>9.776132</td>\n",
       "      <td>3.295837</td>\n",
       "      <td>9.292369</td>\n",
       "    </tr>\n",
       "    <tr>\n",
       "      <th>7418</th>\n",
       "      <td>DE_GB</td>\n",
       "      <td>1.908190</td>\n",
       "      <td>0</td>\n",
       "      <td>11.344872</td>\n",
       "      <td>2.890372</td>\n",
       "      <td>9.505223</td>\n",
       "    </tr>\n",
       "  </tbody>\n",
       "</table>\n",
       "<p>1486 rows × 6 columns</p>\n",
       "</div>"
      ],
      "text/plain": [
       "     main_operating_route  tenure_years  opened_campaign__processed  \\\n",
       "0                   DE_GB      2.065258                           0   \n",
       "2                   DE_FR      0.297064                           0   \n",
       "10                  DE_GB      1.593268                           0   \n",
       "16                  DE_GB      1.549858                           0   \n",
       "20                  DE_FR      1.641286                           0   \n",
       "...                   ...           ...                         ...   \n",
       "7359                DE_GB      2.958720                           0   \n",
       "7370                DE_GB      0.272627                           1   \n",
       "7411                DE_GB      0.800804                           1   \n",
       "7415                DE_GB      2.419081                           0   \n",
       "7418                DE_GB      1.908190                           0   \n",
       "\n",
       "      total_expenses__processed  num_loads_prev_12_mth__processed  \\\n",
       "0                     11.384912                          3.135494   \n",
       "2                      8.471638                          3.295837   \n",
       "10                    10.428440                          3.258097   \n",
       "16                    10.104388                          3.295837   \n",
       "20                    11.272943                          2.944439   \n",
       "...                         ...                               ...   \n",
       "7359                   8.983136                          3.258097   \n",
       "7370                  10.733476                          2.564949   \n",
       "7411                        NaN                          3.258097   \n",
       "7415                   9.776132                          3.295837   \n",
       "7418                  11.344872                          2.890372   \n",
       "\n",
       "      profit_prev_12_mth__processed  \n",
       "0                         10.059565  \n",
       "2                          7.102320  \n",
       "10                         9.106305  \n",
       "16                         8.867510  \n",
       "20                        10.252601  \n",
       "...                             ...  \n",
       "7359                       8.469335  \n",
       "7370                       9.570868  \n",
       "7411                       8.888176  \n",
       "7415                       9.292369  \n",
       "7418                       9.505223  \n",
       "\n",
       "[1486 rows x 6 columns]"
      ]
     },
     "metadata": {},
     "output_type": "display_data"
    },
    {
     "name": "stdout",
     "output_type": "stream",
     "text": [
      "\n",
      "\n"
     ]
    },
    {
     "data": {
      "text/plain": [
       "0       0\n",
       "2       1\n",
       "10      0\n",
       "16      0\n",
       "20      0\n",
       "       ..\n",
       "7359    0\n",
       "7370    0\n",
       "7411    0\n",
       "7415    0\n",
       "7418    0\n",
       "Name: churned, Length: 1486, dtype: int64"
      ]
     },
     "metadata": {},
     "output_type": "display_data"
    }
   ],
   "source": [
    "test_df = pd.read_csv(PROCESSED_TEST_DATA_FILE, header=0, index_col=0)\n",
    "\n",
    "X_test = test_df[exp_config['features_col_names']]\n",
    "y_test = test_df[exp_config['label_col_name']]\n",
    "\n",
    "display(X_test)\n",
    "print('\\n')\n",
    "display(y_test)"
   ]
  },
  {
   "cell_type": "markdown",
   "metadata": {},
   "source": [
    "## Load Model Pipeline"
   ]
  },
  {
   "cell_type": "code",
   "execution_count": 7,
   "metadata": {},
   "outputs": [
    {
     "data": {
      "text/html": [
       "<style>#sk-container-id-1 {color: black;background-color: white;}#sk-container-id-1 pre{padding: 0;}#sk-container-id-1 div.sk-toggleable {background-color: white;}#sk-container-id-1 label.sk-toggleable__label {cursor: pointer;display: block;width: 100%;margin-bottom: 0;padding: 0.3em;box-sizing: border-box;text-align: center;}#sk-container-id-1 label.sk-toggleable__label-arrow:before {content: \"▸\";float: left;margin-right: 0.25em;color: #696969;}#sk-container-id-1 label.sk-toggleable__label-arrow:hover:before {color: black;}#sk-container-id-1 div.sk-estimator:hover label.sk-toggleable__label-arrow:before {color: black;}#sk-container-id-1 div.sk-toggleable__content {max-height: 0;max-width: 0;overflow: hidden;text-align: left;background-color: #f0f8ff;}#sk-container-id-1 div.sk-toggleable__content pre {margin: 0.2em;color: black;border-radius: 0.25em;background-color: #f0f8ff;}#sk-container-id-1 input.sk-toggleable__control:checked~div.sk-toggleable__content {max-height: 200px;max-width: 100%;overflow: auto;}#sk-container-id-1 input.sk-toggleable__control:checked~label.sk-toggleable__label-arrow:before {content: \"▾\";}#sk-container-id-1 div.sk-estimator input.sk-toggleable__control:checked~label.sk-toggleable__label {background-color: #d4ebff;}#sk-container-id-1 div.sk-label input.sk-toggleable__control:checked~label.sk-toggleable__label {background-color: #d4ebff;}#sk-container-id-1 input.sk-hidden--visually {border: 0;clip: rect(1px 1px 1px 1px);clip: rect(1px, 1px, 1px, 1px);height: 1px;margin: -1px;overflow: hidden;padding: 0;position: absolute;width: 1px;}#sk-container-id-1 div.sk-estimator {font-family: monospace;background-color: #f0f8ff;border: 1px dotted black;border-radius: 0.25em;box-sizing: border-box;margin-bottom: 0.5em;}#sk-container-id-1 div.sk-estimator:hover {background-color: #d4ebff;}#sk-container-id-1 div.sk-parallel-item::after {content: \"\";width: 100%;border-bottom: 1px solid gray;flex-grow: 1;}#sk-container-id-1 div.sk-label:hover label.sk-toggleable__label {background-color: #d4ebff;}#sk-container-id-1 div.sk-serial::before {content: \"\";position: absolute;border-left: 1px solid gray;box-sizing: border-box;top: 0;bottom: 0;left: 50%;z-index: 0;}#sk-container-id-1 div.sk-serial {display: flex;flex-direction: column;align-items: center;background-color: white;padding-right: 0.2em;padding-left: 0.2em;position: relative;}#sk-container-id-1 div.sk-item {position: relative;z-index: 1;}#sk-container-id-1 div.sk-parallel {display: flex;align-items: stretch;justify-content: center;background-color: white;position: relative;}#sk-container-id-1 div.sk-item::before, #sk-container-id-1 div.sk-parallel-item::before {content: \"\";position: absolute;border-left: 1px solid gray;box-sizing: border-box;top: 0;bottom: 0;left: 50%;z-index: -1;}#sk-container-id-1 div.sk-parallel-item {display: flex;flex-direction: column;z-index: 1;position: relative;background-color: white;}#sk-container-id-1 div.sk-parallel-item:first-child::after {align-self: flex-end;width: 50%;}#sk-container-id-1 div.sk-parallel-item:last-child::after {align-self: flex-start;width: 50%;}#sk-container-id-1 div.sk-parallel-item:only-child::after {width: 0;}#sk-container-id-1 div.sk-dashed-wrapped {border: 1px dashed gray;margin: 0 0.4em 0.5em 0.4em;box-sizing: border-box;padding-bottom: 0.4em;background-color: white;}#sk-container-id-1 div.sk-label label {font-family: monospace;font-weight: bold;display: inline-block;line-height: 1.2em;}#sk-container-id-1 div.sk-label-container {text-align: center;}#sk-container-id-1 div.sk-container {/* jupyter's `normalize.less` sets `[hidden] { display: none; }` but bootstrap.min.css set `[hidden] { display: none !important; }` so we also need the `!important` here to be able to override the default hidden behavior on the sphinx rendered scikit-learn.org. See: https://github.com/scikit-learn/scikit-learn/issues/21755 */display: inline-block !important;position: relative;}#sk-container-id-1 div.sk-text-repr-fallback {display: none;}</style><div id=\"sk-container-id-1\" class=\"sk-top-container\"><div class=\"sk-text-repr-fallback\"><pre>Pipeline(steps=[(&#x27;column_trans&#x27;,\n",
       "                 ColumnTransformer(remainder=&#x27;passthrough&#x27;,\n",
       "                                   transformers=[(&#x27;impute&#x27;, SimpleImputer(),\n",
       "                                                  [&#x27;total_expenses__processed&#x27;,\n",
       "                                                   &#x27;profit_prev_12_mth__processed&#x27;]),\n",
       "                                                 (&#x27;OHE&#x27;,\n",
       "                                                  OneHotEncoder(drop=&#x27;first&#x27;),\n",
       "                                                  [&#x27;main_operating_route&#x27;])])),\n",
       "                (&#x27;LogisticRegression&#x27;,\n",
       "                 LogisticRegression(class_weight=&#x27;balanced&#x27;, penalty=&#x27;none&#x27;,\n",
       "                                    random_state=3142))])</pre><b>In a Jupyter environment, please rerun this cell to show the HTML representation or trust the notebook. <br />On GitHub, the HTML representation is unable to render, please try loading this page with nbviewer.org.</b></div><div class=\"sk-container\" hidden><div class=\"sk-item sk-dashed-wrapped\"><div class=\"sk-label-container\"><div class=\"sk-label sk-toggleable\"><input class=\"sk-toggleable__control sk-hidden--visually\" id=\"sk-estimator-id-1\" type=\"checkbox\" ><label for=\"sk-estimator-id-1\" class=\"sk-toggleable__label sk-toggleable__label-arrow\">Pipeline</label><div class=\"sk-toggleable__content\"><pre>Pipeline(steps=[(&#x27;column_trans&#x27;,\n",
       "                 ColumnTransformer(remainder=&#x27;passthrough&#x27;,\n",
       "                                   transformers=[(&#x27;impute&#x27;, SimpleImputer(),\n",
       "                                                  [&#x27;total_expenses__processed&#x27;,\n",
       "                                                   &#x27;profit_prev_12_mth__processed&#x27;]),\n",
       "                                                 (&#x27;OHE&#x27;,\n",
       "                                                  OneHotEncoder(drop=&#x27;first&#x27;),\n",
       "                                                  [&#x27;main_operating_route&#x27;])])),\n",
       "                (&#x27;LogisticRegression&#x27;,\n",
       "                 LogisticRegression(class_weight=&#x27;balanced&#x27;, penalty=&#x27;none&#x27;,\n",
       "                                    random_state=3142))])</pre></div></div></div><div class=\"sk-serial\"><div class=\"sk-item sk-dashed-wrapped\"><div class=\"sk-label-container\"><div class=\"sk-label sk-toggleable\"><input class=\"sk-toggleable__control sk-hidden--visually\" id=\"sk-estimator-id-2\" type=\"checkbox\" ><label for=\"sk-estimator-id-2\" class=\"sk-toggleable__label sk-toggleable__label-arrow\">column_trans: ColumnTransformer</label><div class=\"sk-toggleable__content\"><pre>ColumnTransformer(remainder=&#x27;passthrough&#x27;,\n",
       "                  transformers=[(&#x27;impute&#x27;, SimpleImputer(),\n",
       "                                 [&#x27;total_expenses__processed&#x27;,\n",
       "                                  &#x27;profit_prev_12_mth__processed&#x27;]),\n",
       "                                (&#x27;OHE&#x27;, OneHotEncoder(drop=&#x27;first&#x27;),\n",
       "                                 [&#x27;main_operating_route&#x27;])])</pre></div></div></div><div class=\"sk-parallel\"><div class=\"sk-parallel-item\"><div class=\"sk-item\"><div class=\"sk-label-container\"><div class=\"sk-label sk-toggleable\"><input class=\"sk-toggleable__control sk-hidden--visually\" id=\"sk-estimator-id-3\" type=\"checkbox\" ><label for=\"sk-estimator-id-3\" class=\"sk-toggleable__label sk-toggleable__label-arrow\">impute</label><div class=\"sk-toggleable__content\"><pre>[&#x27;total_expenses__processed&#x27;, &#x27;profit_prev_12_mth__processed&#x27;]</pre></div></div></div><div class=\"sk-serial\"><div class=\"sk-item\"><div class=\"sk-estimator sk-toggleable\"><input class=\"sk-toggleable__control sk-hidden--visually\" id=\"sk-estimator-id-4\" type=\"checkbox\" ><label for=\"sk-estimator-id-4\" class=\"sk-toggleable__label sk-toggleable__label-arrow\">SimpleImputer</label><div class=\"sk-toggleable__content\"><pre>SimpleImputer()</pre></div></div></div></div></div></div><div class=\"sk-parallel-item\"><div class=\"sk-item\"><div class=\"sk-label-container\"><div class=\"sk-label sk-toggleable\"><input class=\"sk-toggleable__control sk-hidden--visually\" id=\"sk-estimator-id-5\" type=\"checkbox\" ><label for=\"sk-estimator-id-5\" class=\"sk-toggleable__label sk-toggleable__label-arrow\">OHE</label><div class=\"sk-toggleable__content\"><pre>[&#x27;main_operating_route&#x27;]</pre></div></div></div><div class=\"sk-serial\"><div class=\"sk-item\"><div class=\"sk-estimator sk-toggleable\"><input class=\"sk-toggleable__control sk-hidden--visually\" id=\"sk-estimator-id-6\" type=\"checkbox\" ><label for=\"sk-estimator-id-6\" class=\"sk-toggleable__label sk-toggleable__label-arrow\">OneHotEncoder</label><div class=\"sk-toggleable__content\"><pre>OneHotEncoder(drop=&#x27;first&#x27;)</pre></div></div></div></div></div></div><div class=\"sk-parallel-item\"><div class=\"sk-item\"><div class=\"sk-label-container\"><div class=\"sk-label sk-toggleable\"><input class=\"sk-toggleable__control sk-hidden--visually\" id=\"sk-estimator-id-7\" type=\"checkbox\" ><label for=\"sk-estimator-id-7\" class=\"sk-toggleable__label sk-toggleable__label-arrow\">remainder</label><div class=\"sk-toggleable__content\"><pre></pre></div></div></div><div class=\"sk-serial\"><div class=\"sk-item\"><div class=\"sk-estimator sk-toggleable\"><input class=\"sk-toggleable__control sk-hidden--visually\" id=\"sk-estimator-id-8\" type=\"checkbox\" ><label for=\"sk-estimator-id-8\" class=\"sk-toggleable__label sk-toggleable__label-arrow\">passthrough</label><div class=\"sk-toggleable__content\"><pre>passthrough</pre></div></div></div></div></div></div></div></div><div class=\"sk-item\"><div class=\"sk-estimator sk-toggleable\"><input class=\"sk-toggleable__control sk-hidden--visually\" id=\"sk-estimator-id-9\" type=\"checkbox\" ><label for=\"sk-estimator-id-9\" class=\"sk-toggleable__label sk-toggleable__label-arrow\">LogisticRegression</label><div class=\"sk-toggleable__content\"><pre>LogisticRegression(class_weight=&#x27;balanced&#x27;, penalty=&#x27;none&#x27;, random_state=3142)</pre></div></div></div></div></div></div></div>"
      ],
      "text/plain": [
       "Pipeline(steps=[('column_trans',\n",
       "                 ColumnTransformer(remainder='passthrough',\n",
       "                                   transformers=[('impute', SimpleImputer(),\n",
       "                                                  ['total_expenses__processed',\n",
       "                                                   'profit_prev_12_mth__processed']),\n",
       "                                                 ('OHE',\n",
       "                                                  OneHotEncoder(drop='first'),\n",
       "                                                  ['main_operating_route'])])),\n",
       "                ('LogisticRegression',\n",
       "                 LogisticRegression(class_weight='balanced', penalty='none',\n",
       "                                    random_state=3142))])"
      ]
     },
     "execution_count": 7,
     "metadata": {},
     "output_type": "execute_result"
    }
   ],
   "source": [
    "model_pipeline = make_model(exp_config=exp_config, transformer_map=transformer_map)\n",
    "model_pipeline"
   ]
  },
  {
   "cell_type": "markdown",
   "metadata": {},
   "source": [
    "## Feature Selection\n",
    "\n",
    "TODO - the models already have a relatively small number of features so feature selection so suggest feature selection as a future iteration (note some feature selection was already performed at the preprocessing stage which may not be optimal)"
   ]
  },
  {
   "cell_type": "markdown",
   "metadata": {},
   "source": [
    "## Hyperparameter Tuning"
   ]
  },
  {
   "cell_type": "code",
   "execution_count": 8,
   "metadata": {},
   "outputs": [],
   "source": [
    "\n",
    "if exp_config.get('param_grid') is not None:\n",
    "    g_cv = GridSearchCV(\n",
    "        model_pipeline,\n",
    "        exp_config['param_grid'],\n",
    "        cv=exp_config['n_folds'],\n",
    "        refit=False,\n",
    "        scoring='roc_auc'\n",
    "    )\n",
    "    g_cv.fit(X, y)\n",
    "    g_cv.best_params_"
   ]
  },
  {
   "cell_type": "markdown",
   "metadata": {},
   "source": [
    "## Cross Validation Results"
   ]
  },
  {
   "cell_type": "code",
   "execution_count": 9,
   "metadata": {},
   "outputs": [
    {
     "data": {
      "text/plain": [
       "{'fit_time': array([0.07901597, 0.07053471, 0.03991961, 0.0597136 , 0.05201888]),\n",
       " 'score_time': array([0.00716519, 0.00712991, 0.00703311, 0.00731874, 0.00807571]),\n",
       " 'test_recall': array([0.97777778, 0.94382022, 0.93258427, 0.96629213, 0.96629213]),\n",
       " 'test_precision': array([0.50285714, 0.45405405, 0.48538012, 0.43877551, 0.46236559]),\n",
       " 'test_roc_auc': array([0.94934343, 0.92600102, 0.92629213, 0.93314607, 0.93769152]),\n",
       " 'test_prediction_prop_score': array([0.14705882, 0.15559294, 0.14381833, 0.16484441, 0.15643398])}"
      ]
     },
     "execution_count": 9,
     "metadata": {},
     "output_type": "execute_result"
    }
   ],
   "source": [
    "model_pipeline = make_model(exp_config=exp_config, transformer_map=transformer_map)\n",
    "\n",
    "if 'g_cv' in locals():\n",
    "    model_pipeline.set_params(**{g_cv.best_params_})\n",
    "\n",
    "cv_results = cross_validate(\n",
    "    estimator=model_pipeline,\n",
    "    X=X,\n",
    "    y=y,\n",
    "    cv=exp_config['n_folds'],\n",
    "    scoring={\n",
    "        'recall': make_scorer(recall_score), \n",
    "        'precision': make_scorer(precision_score), \n",
    "        'roc_auc': make_scorer(roc_auc_score), \n",
    "        'prediction_prop_score': make_scorer(prediction_prop_score),\n",
    "    }\n",
    "    \n",
    ")\n",
    "cv_results"
   ]
  },
  {
   "cell_type": "code",
   "execution_count": 10,
   "metadata": {},
   "outputs": [
    {
     "name": "stdout",
     "output_type": "stream",
     "text": [
      "fit_time: 0.060240554809570315\n",
      "score_time: 0.007344532012939453\n",
      "test_recall: 0.9573533083645444\n",
      "test_precision: 0.46868648309443844\n",
      "test_roc_auc: 0.934494836000454\n",
      "test_prediction_prop_score: 0.15354969574036512\n"
     ]
    }
   ],
   "source": [
    "for metric_name, metric_results in cv_results.items():\n",
    "    print(f'{metric_name}: {metric_results.mean()}')\n",
    "    "
   ]
  },
  {
   "cell_type": "markdown",
   "metadata": {},
   "source": [
    "## Test Set Results\n",
    "\n",
    "TODO - shap value although since the random forest doesn't seem work the additional complexity probably not required at the moment"
   ]
  },
  {
   "cell_type": "code",
   "execution_count": 11,
   "metadata": {},
   "outputs": [],
   "source": [
    "model_pipeline = make_model(exp_config=exp_config, transformer_map=transformer_map)\n",
    "\n",
    "if 'g_cv' in locals():\n",
    "    model_pipeline.set_params(**{g_cv.best_params_})\n",
    "\n",
    "model_pipeline.fit(X, y)\n",
    "\n",
    "test_set_predictions = model_pipeline.predict(X_test)"
   ]
  },
  {
   "cell_type": "code",
   "execution_count": 12,
   "metadata": {},
   "outputs": [
    {
     "data": {
      "image/png": "[encoded data removed]",
      "text/plain": [
       "<Figure size 640x480 with 1 Axes>"
      ]
     },
     "metadata": {},
     "output_type": "display_data"
    }
   ],
   "source": [
    "\n",
    "#define metrics\n",
    "y_pred_proba = model_pipeline.predict_proba(X_test)[::,1]\n",
    "fpr, tpr, _ = roc_curve(y_test,  y_pred_proba)\n",
    "\n",
    "#create ROC curve\n",
    "plt.plot(fpr,tpr)\n",
    "plt.ylabel('True Positive Rate')\n",
    "plt.xlabel('False Positive Rate')\n",
    "plt.show()"
   ]
  },
  {
   "cell_type": "code",
   "execution_count": 13,
   "metadata": {},
   "outputs": [
    {
     "name": "stdout",
     "output_type": "stream",
     "text": [
      "('impute__total_expenses__processed', 0.31237342976700816)\n",
      "('impute__profit_prev_12_mth__processed', -3.6031302089540693)\n",
      "('OHE__main_operating_route_DE_GB', 3.38282387065055)\n",
      "('OHE__main_operating_route_PL_IT', -0.42155290532736234)\n",
      "('remainder__tenure_years', -6.5147909115956475)\n",
      "('remainder__opened_campaign__processed', 2.0508193550791574)\n",
      "('remainder__num_loads_prev_12_mth__processed', 0.01822036725346312)\n",
      "intercpet: [29.47922657]\n"
     ]
    }
   ],
   "source": [
    "if isinstance(model_pipeline.steps[-1][1], LogisticRegression):\n",
    "    [ print(i) for i in zip(\n",
    "        model_pipeline.steps[0][1].get_feature_names_out(),\n",
    "        model_pipeline.steps[-1][1].coef_[0]\n",
    "        )\n",
    "    ]\n",
    "    print(f'intercpet: {model_pipeline.steps[-1][1].intercept_}')\n",
    "    \n",
    "if isinstance(model_pipeline.steps[-1][1], RandomForestClassifier):\n",
    "     [ print(i) for i in zip(\n",
    "            model_pipeline.steps[0][1].get_feature_names_out(),\n",
    "            model_pipeline.steps[-1][1].feature_importances_\n",
    "            )\n",
    "        ]\n"
   ]
  },
  {
   "cell_type": "code",
   "execution_count": 14,
   "metadata": {},
   "outputs": [
    {
     "name": "stdout",
     "output_type": "stream",
     "text": [
      "recall_score: 0.9387755102040817\n",
      "precision_score: 0.416289592760181\n",
      "roc_auc_score: 0.9229180144680351\n",
      "prediction_prop_score: 0.148721399730821\n"
     ]
    }
   ],
   "source": [
    "\n",
    "metric_functions = (recall_score, precision_score, roc_auc_score, prediction_prop_score)\n",
    "for current_metric_func in metric_functions:\n",
    "    print(f'{current_metric_func.__name__}: {current_metric_func(y_test, test_set_predictions)}')"
   ]
  },
  {
   "cell_type": "markdown",
   "metadata": {},
   "source": [
    "## Save Model"
   ]
  },
  {
   "cell_type": "code",
   "execution_count": 15,
   "metadata": {},
   "outputs": [
    {
     "name": "stdout",
     "output_type": "stream",
     "text": [
      "model saved\n"
     ]
    }
   ],
   "source": [
    "if exp_config.get('model_name') is not None:\n",
    "    model_filename = MODEL_SAVE_PATH.joinpath(exp_config['model_name'])\n",
    "    with open(model_filename, 'wb') as f:\n",
    "        pickle.dump(model_pipeline, f)\n",
    "    print('model saved')"
   ]
  },
  {
   "cell_type": "code",
   "execution_count": null,
   "metadata": {},
   "outputs": [],
   "source": []
  }
 ],
 "metadata": {
  "kernelspec": {
   "display_name": "sennder-modelling-env",
   "language": "python",
   "name": "sennder-modelling-env"
  },
  "language_info": {
   "codemirror_mode": {
    "name": "ipython",
    "version": 3
   },
   "file_extension": ".py",
   "mimetype": "text/x-python",
   "name": "python",
   "nbconvert_exporter": "python",
   "pygments_lexer": "ipython3",
   "version": "3.10.9"
  }
 },
 "nbformat": 4,
 "nbformat_minor": 4
}
